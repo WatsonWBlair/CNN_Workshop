{
 "cells": [
  {
   "cell_type": "markdown",
   "metadata": {},
   "source": [
    "# Homework\n",
    "This notebook guides the user through implementing a CNN to explore topics covered in the workshop more deeply.\n",
    "\n",
    "## Steps:\n",
    "- Select data-set\n",
    "- Define Architecture\n",
    "- Instantiate CNN\n",
    "- Train and Test\n",
    "- Explore how shifts in the architecture or available tuning parameters effect model performance."
   ]
  }
 ],
 "metadata": {
  "language_info": {
   "name": "python"
  }
 },
 "nbformat": 4,
 "nbformat_minor": 2
}
