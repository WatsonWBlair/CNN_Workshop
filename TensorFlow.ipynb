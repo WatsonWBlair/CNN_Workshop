{
 "cells": [
  {
   "cell_type": "markdown",
   "metadata": {},
   "source": [
    "# Homework\n",
    "This notebook guides the user through implementing a CNN using TensorFlow. The architecture and data set should match those present in the PyTorch notebook.\n",
    "\n",
    "## Steps:\n",
    "- Select data-set\n",
    "- Define Architecture\n",
    "- Instantiate CNN\n",
    "- Train and Test\n",
    "- Output Convolution layers and results\n",
    "- thoroughly display test results and model performance."
   ]
  },
  {
   "cell_type": "markdown",
   "metadata": {},
   "source": [
    "# TODO\n",
    "Transpose (this TensorFlow tutorial)[https://www.tensorflow.org/tutorials/images/cnn] into this notebook.\n",
    "\n",
    "Update the tutorial to use (this bird classification dataset)[https://www.kaggle.com/datasets/rahmasleam/bird-speciees-dataset/data]"
   ]
  }
 ],
 "metadata": {
  "language_info": {
   "name": "python"
  }
 },
 "nbformat": 4,
 "nbformat_minor": 2
}
