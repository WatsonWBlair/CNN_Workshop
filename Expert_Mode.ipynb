{
 "cells": [
  {
   "cell_type": "markdown",
   "id": "b9eeb503",
   "metadata": {},
   "source": [
    "# Expert Exercises for understanding Convocations\n",
    "The intent of this set of exercises is to build a CNN from scratch using NumPy.\n",
    "Based off of [this tutorial](https://medium.com/data-science/lets-code-convolutional-neural-network-in-plain-numpy-ce48e732f5d5)\n",
    "\n",
    "1) import example images (images very in resolution, size, and composition)\n",
    "2) Build a convolution function that takes gray-scale images and convolution parameters and prints out the results of each convolution/pooling operation\n",
    "3) Upgrade the convolution function to handle colored images.\n",
    "4) Using the functions you created, execute the following operations\n",
    "- Sobel Edge Detection\n",
    "- Gausin Blur\n",
    "- Sharpen\n"
   ]
  },
  {
   "cell_type": "code",
   "execution_count": 2,
   "id": "35acacfb",
   "metadata": {},
   "outputs": [],
   "source": [
    "# Imports\n",
    "import numpy as np\n",
    "from copy import deepcopy"
   ]
  },
  {
   "cell_type": "code",
   "execution_count": null,
   "id": "dac26f46",
   "metadata": {},
   "outputs": [],
   "source": [
    "# Write a function which performs a `crop` operation\n",
    "def crop(inputImage, xOffset = 0, yOffset = 0, xRange = 2, yRange = 2):\n",
    "    outputImage = deepcopy(inputImage)\n",
    "    return outputImage\n",
    "\n",
    "\n",
    "# Write a function which rotates an image 90, 180, or 270 degrees\n",
    "def rotate(inputImage, by=90):\n",
    "    outputImage = deepcopy(inputImage)\n",
    "    # Hint: Use a switch statement\n",
    "    # Consider non-square images\n",
    "    return outputImage\n",
    "\n",
    "# EXTRA CREDIT: Update the above to rotate an image by 45, 135, 215 degrees. Can you do it without losing data?\n",
    "# EXTRA CRAZY CREDIT: Update the above to rotate an image by any degree. Did you figure out how to not lose data?"
   ]
  },
  {
   "cell_type": "code",
   "execution_count": null,
   "id": "a838ce16",
   "metadata": {},
   "outputs": [],
   "source": [
    "# Write a function which performs pooling operations: Max, Min, Mean, Median, Mode\n",
    "def pool(inputImage, opp='min', stride = 2, window=4, padding=0):\n",
    "    outputImage = deepcopy(inputImage)\n",
    "    # Hint: Use a switch statement\n",
    "    return outputImage\n",
    "\n",
    "# Write a function that applies a given kernel to an image.\n",
    "# Window, and Padding should be calculated from on kernel and stride\n",
    "def filter(inputImage, kernel, stride=2):\n",
    "    outputImage = deepcopy(inputImage)\n",
    "    return outputImage\n"
   ]
  },
  {
   "cell_type": "code",
   "execution_count": null,
   "id": "59c48b29",
   "metadata": {},
   "outputs": [],
   "source": [
    "# Write a function which converts a color image into a grayscale one\n",
    "def toGrayscale(inputImage):\n",
    "    outputImage = deepcopy(inputImage)\n",
    "    return outputImage\n",
    "\n",
    "# Write a function which inverts the colors in an image\n",
    "def toInverted(inputImage):\n",
    "    outputImage = deepcopy(inputImage)\n",
    "    return outputImage\n",
    "\n",
    "# Extra Credit: Upgrade the above function to shift colors by a specified amount."
   ]
  },
  {
   "cell_type": "code",
   "execution_count": null,
   "id": "537293f2",
   "metadata": {},
   "outputs": [],
   "source": [
    "# Write a function which at least doubles the data set without including any duplicate data. How big can you make it?\n",
    "def inflateData(inputData):\n",
    "    outputData = deepcopy(inputData)\n",
    "    return outputData\n",
    "\n",
    "# Write a function that determines the variance of your data.\n",
    "# TODO: Add guidance on how variance can be calculated in a meaningful way here.\n",
    "def dataVariance(inputData):\n",
    "    return 0"
   ]
  },
  {
   "cell_type": "code",
   "execution_count": null,
   "id": "a7edbec3",
   "metadata": {},
   "outputs": [],
   "source": [
    "# Write a function which flattens the input image\n",
    "def toFlat(inputImage):\n",
    "    outputImage = deepcopy(inputImage)\n",
    "    return outputImage"
   ]
  },
  {
   "cell_type": "code",
   "execution_count": null,
   "id": "1047b1d2",
   "metadata": {},
   "outputs": [],
   "source": []
  },
  {
   "cell_type": "code",
   "execution_count": null,
   "id": "4e9eff31",
   "metadata": {},
   "outputs": [],
   "source": []
  },
  {
   "cell_type": "code",
   "execution_count": null,
   "id": "15e59768",
   "metadata": {},
   "outputs": [],
   "source": []
  },
  {
   "cell_type": "code",
   "execution_count": null,
   "id": "49441181",
   "metadata": {},
   "outputs": [],
   "source": []
  },
  {
   "cell_type": "code",
   "execution_count": null,
   "id": "ebadbb11",
   "metadata": {},
   "outputs": [],
   "source": []
  },
  {
   "cell_type": "code",
   "execution_count": null,
   "id": "7be2452b",
   "metadata": {},
   "outputs": [],
   "source": []
  },
  {
   "cell_type": "code",
   "execution_count": null,
   "id": "0e0e1fd9",
   "metadata": {},
   "outputs": [],
   "source": []
  },
  {
   "cell_type": "code",
   "execution_count": null,
   "id": "d7f34879",
   "metadata": {},
   "outputs": [],
   "source": []
  },
  {
   "cell_type": "code",
   "execution_count": null,
   "id": "41830252",
   "metadata": {},
   "outputs": [],
   "source": []
  },
  {
   "cell_type": "code",
   "execution_count": null,
   "id": "788a4b13",
   "metadata": {},
   "outputs": [],
   "source": []
  },
  {
   "cell_type": "code",
   "execution_count": null,
   "id": "221d1ede",
   "metadata": {},
   "outputs": [],
   "source": []
  }
 ],
 "metadata": {
  "kernelspec": {
   "display_name": "base",
   "language": "python",
   "name": "python3"
  },
  "language_info": {
   "codemirror_mode": {
    "name": "ipython",
    "version": 3
   },
   "file_extension": ".py",
   "mimetype": "text/x-python",
   "name": "python",
   "nbconvert_exporter": "python",
   "pygments_lexer": "ipython3",
   "version": "3.12.2"
  }
 },
 "nbformat": 4,
 "nbformat_minor": 5
}
