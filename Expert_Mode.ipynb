{
 "cells": [
  {
   "cell_type": "markdown",
   "id": "b9eeb503",
   "metadata": {},
   "source": [
    "# Expert Exercises for understanding Convocations\n",
    "The intent of this set of exercises is to build a CNN from scratch using NumPy\n",
    "\n",
    "1) import example images (images very in resolution, size, and composition)\n",
    "2) Build a convolution function that takes gray-scale images and convolution parameters and prints out the results of each convolution/pooling operation\n",
    "3) Upgrade the convolution function to handle colored images.\n",
    "4) Using the functions you created, execute the following operations\n",
    "- Sobel Edge Detection\n",
    "- Gausin Blur\n",
    "- Sharpen\n"
   ]
  },
  {
   "cell_type": "code",
   "execution_count": null,
   "id": "35acacfb",
   "metadata": {},
   "outputs": [],
   "source": []
  }
 ],
 "metadata": {
  "language_info": {
   "name": "python"
  }
 },
 "nbformat": 4,
 "nbformat_minor": 5
}
