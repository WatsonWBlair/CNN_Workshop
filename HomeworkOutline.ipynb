{
 "cells": [
  {
   "cell_type": "code",
   "execution_count": null,
   "id": "73a73c3e",
   "metadata": {},
   "outputs": [],
   "source": [
    "# Import Libraries"
   ]
  },
  {
   "cell_type": "code",
   "execution_count": null,
   "id": "e9165519",
   "metadata": {},
   "outputs": [],
   "source": [
    "# Download Data Set"
   ]
  },
  {
   "cell_type": "code",
   "execution_count": null,
   "id": "a6512fca",
   "metadata": {},
   "outputs": [],
   "source": [
    "# Split data into train and test sets\n",
    "\n",
    "# Select single image for use as an example image."
   ]
  },
  {
   "cell_type": "code",
   "execution_count": null,
   "id": "e0c79bd8",
   "metadata": {},
   "outputs": [],
   "source": [
    "# What does the example image look like after one convolution using default settings?"
   ]
  },
  {
   "cell_type": "code",
   "execution_count": null,
   "id": "9097e79f",
   "metadata": {},
   "outputs": [],
   "source": [
    "# What does the example image look like if you just MaxPool/MinPool/MeanPool it?"
   ]
  },
  {
   "cell_type": "code",
   "execution_count": null,
   "id": "edfc3b2d",
   "metadata": {},
   "outputs": [],
   "source": [
    "# Write class which takes preforms the following tasks for the provided hyper parameter space:\n",
    "\n",
    "'''\n",
    "-  Initialize model according to architecture.\n",
    "-  Display result of sample image at each stage of the convolutional architecture.\n",
    "\n",
    "- Train the neural network\n",
    "- Evaluate model performance\n",
    "'''"
   ]
  },
  {
   "cell_type": "code",
   "execution_count": null,
   "id": "3c6951b4",
   "metadata": {},
   "outputs": [],
   "source": [
    "# Which configuration was your best performer?"
   ]
  },
  {
   "cell_type": "code",
   "execution_count": null,
   "id": "6e3722a8",
   "metadata": {},
   "outputs": [],
   "source": [
    "# How did the number of convolution layers impact training time?"
   ]
  },
  {
   "cell_type": "code",
   "execution_count": null,
   "id": "5663463a",
   "metadata": {},
   "outputs": [],
   "source": [
    "# Graph the relationship between convolutional layers and model performance."
   ]
  }
 ],
 "metadata": {
  "language_info": {
   "name": "python"
  }
 },
 "nbformat": 4,
 "nbformat_minor": 5
}
